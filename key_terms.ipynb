{
 "cells": [
  {
   "cell_type": "code",
   "execution_count": null,
   "metadata": {},
   "outputs": [],
   "source": []
  },
  {
   "cell_type": "markdown",
   "metadata": {},
   "source": [
    "# **Key Terms**\n",
    "\n",
    "> **DataFrame -** A 2 dimensional labeled data structure with columns of potentially different types. Like a spreadsheep or SQL table"
   ]
  },
  {
   "cell_type": "code",
   "execution_count": 2,
   "metadata": {},
   "outputs": [
    {
     "name": "stdout",
     "output_type": "stream",
     "text": [
      "     names  ages\n",
      "0   Pirate   400\n",
      "1      Bum    44\n",
      "2  Pothead    45\n"
     ]
    }
   ],
   "source": [
    "import pandas as pd\n",
    "\n",
    "# Create a DataFrame from dictionaries\n",
    "data = {'names': ['Pirate', 'Bum','Pothead'],\n",
    "        'ages': [400, 44, 45]}\n",
    "df = pd.DataFrame(data)\n",
    "\n",
    "print(df)"
   ]
  },
  {
   "cell_type": "markdown",
   "metadata": {},
   "source": [
    "## **Column -**\n",
    "> A vertical set of values in a DataFrame.Each column has a name and contains values of same data type."
   ]
  },
  {
   "cell_type": "code",
   "execution_count": 4,
   "metadata": {},
   "outputs": [
    {
     "name": "stdout",
     "output_type": "stream",
     "text": [
      "0     Pirate\n",
      "1        Bum\n",
      "2    Pothead\n",
      "Name: names, dtype: object\n"
     ]
    }
   ],
   "source": [
    "# Access the 'name' column\n",
    "print(df['names'])"
   ]
  },
  {
   "cell_type": "markdown",
   "metadata": {},
   "source": [
    "## **Row -**\n",
    "> A horizontal entry in a DataFrame. Each row contains an observation with values for each column."
   ]
  },
  {
   "cell_type": "code",
   "execution_count": 5,
   "metadata": {},
   "outputs": [
    {
     "name": "stdout",
     "output_type": "stream",
     "text": [
      "names    Pothead\n",
      "ages          45\n",
      "Name: 2, dtype: object\n"
     ]
    }
   ],
   "source": [
    "# Access the first row\n",
    "print(df.iloc[2])"
   ]
  },
  {
   "cell_type": "markdown",
   "metadata": {},
   "source": [
    "## **Iloc -**\n",
    "\n",
    "> interger-location based indexer to select DataFrame rows and columns by index.\n"
   ]
  },
  {
   "cell_type": "code",
   "execution_count": 6,
   "metadata": {},
   "outputs": [
    {
     "name": "stdout",
     "output_type": "stream",
     "text": [
      "    names  ages\n",
      "0  Pirate   400\n",
      "1     Bum    44\n"
     ]
    }
   ],
   "source": [
    "# Select rows 0 and 1\n",
    "print(df.iloc[[0,1]])"
   ]
  },
  {
   "cell_type": "markdown",
   "metadata": {},
   "source": [
    "## **loc -**\n",
    "\n",
    "> Label-location based indexer to select DataFrame rows and columns by columns name."
   ]
  },
  {
   "cell_type": "code",
   "execution_count": 8,
   "metadata": {},
   "outputs": [
    {
     "name": "stdout",
     "output_type": "stream",
     "text": [
      "     names  ages\n",
      "0   Pirate   400\n",
      "2  Pothead    45\n"
     ]
    }
   ],
   "source": [
    "# Select rows by condition\n",
    "print(df.loc[df['ages'] > 44])"
   ]
  },
  {
   "cell_type": "markdown",
   "metadata": {},
   "source": [
    "### **Comparison operators -**\n",
    "> Operatores like == , !=, <,>etc. used to compare values and return Boolean true/false results. Important for filtering data."
   ]
  },
  {
   "cell_type": "markdown",
   "metadata": {},
   "source": [
    "### **Boolean operators -**\n",
    "> Operators like & , |, ~ used to combine comparison expressions and return true/false results. Important for comples filter logic."
   ]
  },
  {
   "cell_type": "markdown",
   "metadata": {},
   "source": [
    "### **Filters -**\n",
    "> Boolean indexed arrays that allow selecting subsets of data meeting comparison criteria. Created using comparison/Boolean operators."
   ]
  },
  {
   "cell_type": "markdown",
   "metadata": {},
   "source": [
    "### **loc accessor -**\n",
    "> Accessor used to select/filter data from a DataFrame by label or Boolean array."
   ]
  },
  {
   "cell_type": "markdown",
   "metadata": {},
   "source": [
    "### **isin() method -**\n",
    "> Method to filter data using a list of values to check for set membership. Useful alternative to repeated equality checks."
   ]
  },
  {
   "cell_type": "code",
   "execution_count": 2,
   "metadata": {},
   "outputs": [],
   "source": [
    "import pandas as pd"
   ]
  },
  {
   "cell_type": "code",
   "execution_count": 3,
   "metadata": {},
   "outputs": [
    {
     "name": "stdout",
     "output_type": "stream",
     "text": [
      "   A  B\n",
      "1  2  5\n"
     ]
    }
   ],
   "source": [
    "df = pd.DataFrame({'A': [1, 2, 3], 'B': [4, 5, 6]})\n"
   ]
  },
  {
   "cell_type": "code",
   "execution_count": 4,
   "metadata": {},
   "outputs": [
    {
     "name": "stdout",
     "output_type": "stream",
     "text": [
      "   A  B\n",
      "1  2  5\n"
     ]
    }
   ],
   "source": [
    "# Comparison operators \n",
    "print(df[df['A'] == 2]) # Simple filter"
   ]
  },
  {
   "cell_type": "code",
   "execution_count": 5,
   "metadata": {},
   "outputs": [
    {
     "name": "stdout",
     "output_type": "stream",
     "text": [
      "   A  B\n",
      "2  3  6\n"
     ]
    }
   ],
   "source": [
    "# Boolean operators\n",
    "filter = (df['A'] > 1) & (df['B'] == 6)  \n",
    "print(df[filter]) # Complex filter"
   ]
  },
  {
   "cell_type": "code",
   "execution_count": 6,
   "metadata": {},
   "outputs": [
    {
     "name": "stdout",
     "output_type": "stream",
     "text": [
      "   A  B\n",
      "1  2  5\n",
      "2  3  6\n"
     ]
    }
   ],
   "source": [
    "# Filters with loc accessor\n",
    "filter = df['A'] > 1\n",
    "print(df.loc[filter]) "
   ]
  },
  {
   "cell_type": "code",
   "execution_count": 7,
   "metadata": {},
   "outputs": [
    {
     "name": "stdout",
     "output_type": "stream",
     "text": [
      "   A  B\n",
      "1  2  5\n"
     ]
    }
   ],
   "source": [
    "\n",
    "# isin() method\n",
    "values = [2, 5]\n",
    "filter = df['A'].isin(values) \n",
    "print(df[filter])"
   ]
  },
  {
   "cell_type": "markdown",
   "metadata": {},
   "source": [
    "### **numpy.ndarray**\n",
    "> *  n-dimensional Numpy array, the core object that under pins Pandas DataFrames\n",
    "\n",
    "### **pyspark.sql.DataFrame**\n",
    "> * Distributed dataframe object in PySpark for working with large datasets\n",
    "\n",
    "### **dask.dataframe.DataFrame**\n",
    "> * Dask dataframe that partitions Pandas dataframe across multiple cores\n",
    "\n",
    "### **np.random.randn()** \n",
    "> * Generate an ndarray with random values from a normal distribution\n",
    "\n",
    "### **df.persist()**\n",
    "> * Trigger caching of a PySpark dataframe into memory or disk storage\n",
    "\n"
   ]
  },
  {
   "cell_type": "code",
   "execution_count": 2,
   "metadata": {},
   "outputs": [],
   "source": [
    "# Pandas Code Examples\n",
    "import pandas as pd\n",
    "import numpy as np"
   ]
  },
  {
   "cell_type": "code",
   "execution_count": 3,
   "metadata": {},
   "outputs": [
    {
     "name": "stdout",
     "output_type": "stream",
     "text": [
      "          0         1         2         3\n",
      "0  0.632713 -0.480907  0.450839  0.711421\n",
      "1 -0.816838 -1.013212  0.017223  1.213634\n",
      "2 -0.058457  1.311762  0.692476 -1.105042\n",
      "3  0.638599  1.996523  0.613670  0.171192\n",
      "4 -0.446314  0.983192  0.209889 -0.336484\n"
     ]
    }
   ],
   "source": [
    "\n",
    "# numpy.ndarray\n",
    "data = np.random.randn(5, 4)  # Generate 5x4 ndarray \n",
    "df = pd.DataFrame(data) # Underlying structure of Pandas DataFrame\n",
    "print(df)"
   ]
  },
  {
   "cell_type": "code",
   "execution_count": 5,
   "metadata": {},
   "outputs": [
    {
     "name": "stdout",
     "output_type": "stream",
     "text": [
      "   A_column  B_column      C_ya  DeezNuts\n",
      "0  0.978081 -0.751951  0.149860 -1.361199\n",
      "1  0.994186  2.500617  2.307605  1.032525\n",
      "2 -0.986731  1.435462  0.777692 -0.106692\n",
      "3 -0.297237 -0.537374  0.327383  0.243513\n",
      "4 -0.460401 -0.037491  0.161893 -0.646683\n"
     ]
    }
   ],
   "source": [
    "# np.random.randn()  \n",
    "df = pd.DataFrame(np.random.randn(5, 4), \n",
    "                  columns=['A_column', 'B_column', 'C_ya', 'DeezNuts']) \n",
    "print(df)"
   ]
  },
  {
   "cell_type": "code",
   "execution_count": 2,
   "metadata": {},
   "outputs": [
    {
     "name": "stdout",
     "output_type": "stream",
     "text": [
      "shape: (1, 2)\n",
      "┌───────┬───────┐\n",
      "│ fruit ┆ count │\n",
      "│ ---   ┆ ---   │\n",
      "│ str   ┆ i64   │\n",
      "╞═══════╪═══════╡\n",
      "│ apple ┆ 10    │\n",
      "└───────┴───────┘\n"
     ]
    }
   ],
   "source": [
    "'''\n",
    " POLARS Key Points:\n",
    "\n",
    "Polars supports reading/writing many data formats like CSV and Parquet\n",
    "\n",
    "Expressions allow modular DataFrame transformations\n",
    "\n",
    "Filter, select, group_by, join, and concat combine to form complex workflows\n",
    "'''\n",
    "\n",
    "import polars as pl\n",
    "\n",
    "# Create DataFrame \n",
    "data = [{\"fruit\": \"apple\", \"count\": 10, \"price\": 0.50}, \n",
    "        {\"fruit\": \"banana\", \"count\": 20, \"price\": 0.25}]\n",
    "df = pl.from_dicts(data)\n",
    "\n",
    "# Expressions to select, filter, aggregate\n",
    "sel = df.select([\"fruit\", \"count\"]) # Select columns\n",
    "filt = sel.filter(pl.col(\"fruit\") == \"apple\") # Filter rows\n",
    "agg = filt.group_by(\"fruit\").agg(pl.col(\"count\").sum()) # Aggregate\n",
    "\n",
    "print(agg)"
   ]
  },
  {
   "cell_type": "code",
   "execution_count": 4,
   "metadata": {},
   "outputs": [
    {
     "ename": "NameError",
     "evalue": "name 'df2' is not defined",
     "output_type": "error",
     "traceback": [
      "\u001b[1;31m---------------------------------------------------------------------------\u001b[0m",
      "\u001b[1;31mNameError\u001b[0m                                 Traceback (most recent call last)",
      "Cell \u001b[1;32mIn[4], line 3\u001b[0m\n\u001b[0;32m      1\u001b[0m \u001b[38;5;66;03m# code hint using Polars\u001b[39;00m\n\u001b[0;32m      2\u001b[0m \u001b[38;5;66;03m# Join DataFrames\u001b[39;00m\n\u001b[1;32m----> 3\u001b[0m joined \u001b[38;5;241m=\u001b[39m df\u001b[38;5;241m.\u001b[39mjoin(\u001b[43mdf2\u001b[49m, on\u001b[38;5;241m=\u001b[39m[\u001b[38;5;124m\"\u001b[39m\u001b[38;5;124mfruit_name\u001b[39m\u001b[38;5;124m\"\u001b[39m]) \n\u001b[0;32m      5\u001b[0m \u001b[38;5;66;03m# Visualize\u001b[39;00m\n\u001b[0;32m      6\u001b[0m joined\u001b[38;5;241m.\u001b[39mplot\u001b[38;5;241m.\u001b[39mscatter(x\u001b[38;5;241m=\u001b[39m\u001b[38;5;124m\"\u001b[39m\u001b[38;5;124mcount\u001b[39m\u001b[38;5;124m\"\u001b[39m, y\u001b[38;5;241m=\u001b[39m\u001b[38;5;124m\"\u001b[39m\u001b[38;5;124mprice\u001b[39m\u001b[38;5;124m\"\u001b[39m)\n",
      "\u001b[1;31mNameError\u001b[0m: name 'df2' is not defined"
     ]
    }
   ],
   "source": [
    "# code hint using Polars\n",
    "# Join DataFrames\n",
    "joined = df.join(df2, on=[\"fruit_name\"]) \n",
    "\n",
    "# Visualize\n",
    "joined.plot.scatter(x=\"count\", y=\"price\")"
   ]
  },
  {
   "cell_type": "code",
   "execution_count": null,
   "metadata": {},
   "outputs": [],
   "source": []
  }
 ],
 "metadata": {
  "kernelspec": {
   "display_name": "Python 3",
   "language": "python",
   "name": "python3"
  },
  "language_info": {
   "codemirror_mode": {
    "name": "ipython",
    "version": 3
   },
   "file_extension": ".py",
   "mimetype": "text/x-python",
   "name": "python",
   "nbconvert_exporter": "python",
   "pygments_lexer": "ipython3",
   "version": "3.11.8"
  }
 },
 "nbformat": 4,
 "nbformat_minor": 2
}
